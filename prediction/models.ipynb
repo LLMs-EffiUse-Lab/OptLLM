{
 "cells": [
  {
   "cell_type": "code",
   "execution_count": 9,
   "id": "11007561",
   "metadata": {},
   "outputs": [],
   "source": [
    "from gensim.models.fasttext import load_facebook_vectors"
   ]
  },
  {
   "cell_type": "markdown",
   "id": "51425c38",
   "metadata": {},
   "source": [
    "### Download the word vector from https://fasttext.cc/docs/en/english-vectors.html\n",
    "Pre-trained word vectors:\n",
    "- wiki-news-300d-1M.vec.zip: 1 million word vectors trained on Wikipedia 2017, UMBC webbase corpus and statmt.org news dataset (16B tokens).\n",
    "- wiki-news-300d-1M-subword.vec.zip: 1 million word vectors trained with subword infomation on Wikipedia 2017, UMBC webbase corpus and statmt.org news dataset (16B tokens).\n",
    "- crawl-300d-2M.vec.zip: 2 million word vectors trained on Common Crawl (600B tokens).\n",
    "- crawl-300d-2M-subword.zip: 2 million word vectors trained with subword information on Common Crawl (600B tokens) (** current one **)"
   ]
  },
  {
   "cell_type": "code",
   "execution_count": 10,
   "id": "c4a515c6",
   "metadata": {},
   "outputs": [],
   "source": [
    "# Load the FastText model from the file\n",
    "model = load_facebook_vectors(\n",
    "    \"./word_models/crawl-300d-2M-subword/crawl-300d-2M-subword.bin\")"
   ]
  },
  {
   "cell_type": "code",
   "execution_count": 11,
   "id": "ed33dbc0",
   "metadata": {},
   "outputs": [
    {
     "data": {
      "text/plain": [
       "2000000"
      ]
     },
     "execution_count": 11,
     "metadata": {},
     "output_type": "execute_result"
    }
   ],
   "source": [
    "### get word vectors ###\n",
    "# model.word_vec('word')"
   ]
  },
  {
   "cell_type": "code",
   "execution_count": 21,
   "id": "38901124",
   "metadata": {},
   "outputs": [],
   "source": [
    "import pandas as pd"
   ]
  },
  {
   "cell_type": "code",
   "execution_count": 11,
   "id": "a5db452d",
   "metadata": {},
   "outputs": [],
   "source": [
    "data_dir = \"../datasets/text_classification/\"\n",
    "model_names = [\"gptneox_20B\", \"gptj_6B\", \"fairseq_gpt_13B\", \"text-davinci-002\", \"text-curie-001\",\n",
    "               \"gpt-3.5-turbo\", \"gpt-4\", \"j1-jumbo\", \"j1-grande\", \"j1-large\", \"xlarge\", \"medium\"]\n",
    "answer_column = \"ref_answer\"\n",
    "query_name = \"query\""
   ]
  },
  {
   "cell_type": "code",
   "execution_count": 49,
   "id": "e9137848",
   "metadata": {},
   "outputs": [],
   "source": [
    "import os\n",
    "import numpy as np\n",
    "from tqdm import tqdm"
   ]
  },
  {
   "cell_type": "code",
   "execution_count": 50,
   "id": "5c054b29",
   "metadata": {},
   "outputs": [],
   "source": [
    "# Load the data from the CSV files\n",
    "def get_query_only(text):\n",
    "    query = text.split(\"\\n\")[-2]\n",
    "    query = query[query.find(\":\") + 1:].strip()\n",
    "    return query\n",
    "\n",
    "X = []\n",
    "Y = []\n",
    "\n",
    "for fname in os.listdir(data_dir):\n",
    "    fpath = os.path.join(data_dir, fname)\n",
    "    news_df = pd.read_csv(fpath)\n",
    "    for _, row in news_df.iterrows():\n",
    "        X.append({'dataset': fname[:-4], 'query': row[query_name]})\n",
    "        Y.append({k: row[f\"{k}_answer\"] == row[answer_column] for k in model_names})"
   ]
  },
  {
   "cell_type": "code",
   "execution_count": 51,
   "id": "8769d1b7",
   "metadata": {},
   "outputs": [],
   "source": [
    "Y = [{k: 1 if v else 0 for k, v in y.items()} for y in Y]"
   ]
  },
  {
   "cell_type": "code",
   "execution_count": 85,
   "id": "99bde5ea",
   "metadata": {},
   "outputs": [],
   "source": [
    "def extract_features_word2vec(text):\n",
    "    words = text.strip().split()\n",
    "    word_vecs = []\n",
    "    for word in words:\n",
    "        try:\n",
    "            word_vecs.append(model.get_vector(word.strip()))\n",
    "        except Exception as ex:\n",
    "            pass\n",
    "    return np.mean(word_vecs, axis=0)"
   ]
  },
  {
   "cell_type": "code",
   "execution_count": 86,
   "id": "a6ee3020",
   "metadata": {},
   "outputs": [
    {
     "name": "stderr",
     "output_type": "stream",
     "text": [
      "100%|██████████| 39419/39419 [00:00<00:00, 3867129.84it/s]\n"
     ]
    }
   ],
   "source": [
    "X_features_word2vec = [{'dataset': x['dataset'], 'features': extract_features_word2vec(x['query'])} for x in X]"
   ]
  },
  {
   "cell_type": "code",
   "execution_count": 58,
   "id": "4400f1e0",
   "metadata": {},
   "outputs": [],
   "source": [
    "# Save the data to a file\n",
    "import pickle\n",
    "with open(\"data_word2vec.pkl\", mode=\"wb\") as f:\n",
    "    pickle.dump((X_features_word2vec, Y), f)"
   ]
  },
  {
   "cell_type": "code",
   "execution_count": 42,
   "id": "e1494487",
   "metadata": {},
   "outputs": [],
   "source": [
    "# Load the data from the file\n",
    "import pickle\n",
    "with open(\"data_word2vec.pkl\", mode=\"rb\") as f:\n",
    "    X, Y = pickle.load(f)"
   ]
  },
  {
   "cell_type": "code",
   "execution_count": 43,
   "id": "13a829d9",
   "metadata": {},
   "outputs": [],
   "source": [
    "from helpers import split_train_test_random, split_train_test_dataset"
   ]
  },
  {
   "cell_type": "code",
   "execution_count": 44,
   "id": "6b472e9c",
   "metadata": {},
   "outputs": [],
   "source": [
    "from sklearn.model_selection import train_test_split\n",
    "from sklearn.multiclass import OneVsRestClassifier\n",
    "from xgboost import XGBClassifier\n",
    "from sklearn.multioutput import MultiOutputClassifier"
   ]
  },
  {
   "cell_type": "code",
   "execution_count": 45,
   "id": "6b5b0f7a",
   "metadata": {},
   "outputs": [],
   "source": [
    "train_x, train_y, test_x, test_y = split_train_test_random(X, Y, 0.99)"
   ]
  },
  {
   "cell_type": "code",
   "execution_count": 46,
   "id": "d26c4fd4",
   "metadata": {},
   "outputs": [
    {
     "data": {
      "text/html": [
       "<style>#sk-container-id-8 {color: black;background-color: white;}#sk-container-id-8 pre{padding: 0;}#sk-container-id-8 div.sk-toggleable {background-color: white;}#sk-container-id-8 label.sk-toggleable__label {cursor: pointer;display: block;width: 100%;margin-bottom: 0;padding: 0.3em;box-sizing: border-box;text-align: center;}#sk-container-id-8 label.sk-toggleable__label-arrow:before {content: \"▸\";float: left;margin-right: 0.25em;color: #696969;}#sk-container-id-8 label.sk-toggleable__label-arrow:hover:before {color: black;}#sk-container-id-8 div.sk-estimator:hover label.sk-toggleable__label-arrow:before {color: black;}#sk-container-id-8 div.sk-toggleable__content {max-height: 0;max-width: 0;overflow: hidden;text-align: left;background-color: #f0f8ff;}#sk-container-id-8 div.sk-toggleable__content pre {margin: 0.2em;color: black;border-radius: 0.25em;background-color: #f0f8ff;}#sk-container-id-8 input.sk-toggleable__control:checked~div.sk-toggleable__content {max-height: 200px;max-width: 100%;overflow: auto;}#sk-container-id-8 input.sk-toggleable__control:checked~label.sk-toggleable__label-arrow:before {content: \"▾\";}#sk-container-id-8 div.sk-estimator input.sk-toggleable__control:checked~label.sk-toggleable__label {background-color: #d4ebff;}#sk-container-id-8 div.sk-label input.sk-toggleable__control:checked~label.sk-toggleable__label {background-color: #d4ebff;}#sk-container-id-8 input.sk-hidden--visually {border: 0;clip: rect(1px 1px 1px 1px);clip: rect(1px, 1px, 1px, 1px);height: 1px;margin: -1px;overflow: hidden;padding: 0;position: absolute;width: 1px;}#sk-container-id-8 div.sk-estimator {font-family: monospace;background-color: #f0f8ff;border: 1px dotted black;border-radius: 0.25em;box-sizing: border-box;margin-bottom: 0.5em;}#sk-container-id-8 div.sk-estimator:hover {background-color: #d4ebff;}#sk-container-id-8 div.sk-parallel-item::after {content: \"\";width: 100%;border-bottom: 1px solid gray;flex-grow: 1;}#sk-container-id-8 div.sk-label:hover label.sk-toggleable__label {background-color: #d4ebff;}#sk-container-id-8 div.sk-serial::before {content: \"\";position: absolute;border-left: 1px solid gray;box-sizing: border-box;top: 0;bottom: 0;left: 50%;z-index: 0;}#sk-container-id-8 div.sk-serial {display: flex;flex-direction: column;align-items: center;background-color: white;padding-right: 0.2em;padding-left: 0.2em;position: relative;}#sk-container-id-8 div.sk-item {position: relative;z-index: 1;}#sk-container-id-8 div.sk-parallel {display: flex;align-items: stretch;justify-content: center;background-color: white;position: relative;}#sk-container-id-8 div.sk-item::before, #sk-container-id-8 div.sk-parallel-item::before {content: \"\";position: absolute;border-left: 1px solid gray;box-sizing: border-box;top: 0;bottom: 0;left: 50%;z-index: -1;}#sk-container-id-8 div.sk-parallel-item {display: flex;flex-direction: column;z-index: 1;position: relative;background-color: white;}#sk-container-id-8 div.sk-parallel-item:first-child::after {align-self: flex-end;width: 50%;}#sk-container-id-8 div.sk-parallel-item:last-child::after {align-self: flex-start;width: 50%;}#sk-container-id-8 div.sk-parallel-item:only-child::after {width: 0;}#sk-container-id-8 div.sk-dashed-wrapped {border: 1px dashed gray;margin: 0 0.4em 0.5em 0.4em;box-sizing: border-box;padding-bottom: 0.4em;background-color: white;}#sk-container-id-8 div.sk-label label {font-family: monospace;font-weight: bold;display: inline-block;line-height: 1.2em;}#sk-container-id-8 div.sk-label-container {text-align: center;}#sk-container-id-8 div.sk-container {/* jupyter's `normalize.less` sets `[hidden] { display: none; }` but bootstrap.min.css set `[hidden] { display: none !important; }` so we also need the `!important` here to be able to override the default hidden behavior on the sphinx rendered scikit-learn.org. See: https://github.com/scikit-learn/scikit-learn/issues/21755 */display: inline-block !important;position: relative;}#sk-container-id-8 div.sk-text-repr-fallback {display: none;}</style><div id=\"sk-container-id-8\" class=\"sk-top-container\"><div class=\"sk-text-repr-fallback\"><pre>MultiOutputClassifier(estimator=XGBClassifier(base_score=None, booster=None,\n",
       "                                              callbacks=None,\n",
       "                                              colsample_bylevel=None,\n",
       "                                              colsample_bynode=None,\n",
       "                                              colsample_bytree=None,\n",
       "                                              early_stopping_rounds=None,\n",
       "                                              enable_categorical=False,\n",
       "                                              eval_metric=None,\n",
       "                                              feature_types=None, gamma=None,\n",
       "                                              gpu_id=None, grow_policy=None,\n",
       "                                              importance_type=None,\n",
       "                                              interaction_constraints=None,\n",
       "                                              learning_rate=None, max_bin=None,\n",
       "                                              max_cat_threshold=None,\n",
       "                                              max_cat_to_onehot=None,\n",
       "                                              max_delta_step=None,\n",
       "                                              max_depth=100, max_leaves=None,\n",
       "                                              min_child_weight=None,\n",
       "                                              missing=nan,\n",
       "                                              monotone_constraints=None,\n",
       "                                              n_estimators=1000, n_jobs=-1,\n",
       "                                              num_parallel_tree=None,\n",
       "                                              predictor=None, random_state=None, ...))</pre><b>In a Jupyter environment, please rerun this cell to show the HTML representation or trust the notebook. <br />On GitHub, the HTML representation is unable to render, please try loading this page with nbviewer.org.</b></div><div class=\"sk-container\" hidden><div class=\"sk-item sk-dashed-wrapped\"><div class=\"sk-label-container\"><div class=\"sk-label sk-toggleable\"><input class=\"sk-toggleable__control sk-hidden--visually\" id=\"sk-estimator-id-22\" type=\"checkbox\" ><label for=\"sk-estimator-id-22\" class=\"sk-toggleable__label sk-toggleable__label-arrow\">MultiOutputClassifier</label><div class=\"sk-toggleable__content\"><pre>MultiOutputClassifier(estimator=XGBClassifier(base_score=None, booster=None,\n",
       "                                              callbacks=None,\n",
       "                                              colsample_bylevel=None,\n",
       "                                              colsample_bynode=None,\n",
       "                                              colsample_bytree=None,\n",
       "                                              early_stopping_rounds=None,\n",
       "                                              enable_categorical=False,\n",
       "                                              eval_metric=None,\n",
       "                                              feature_types=None, gamma=None,\n",
       "                                              gpu_id=None, grow_policy=None,\n",
       "                                              importance_type=None,\n",
       "                                              interaction_constraints=None,\n",
       "                                              learning_rate=None, max_bin=None,\n",
       "                                              max_cat_threshold=None,\n",
       "                                              max_cat_to_onehot=None,\n",
       "                                              max_delta_step=None,\n",
       "                                              max_depth=100, max_leaves=None,\n",
       "                                              min_child_weight=None,\n",
       "                                              missing=nan,\n",
       "                                              monotone_constraints=None,\n",
       "                                              n_estimators=1000, n_jobs=-1,\n",
       "                                              num_parallel_tree=None,\n",
       "                                              predictor=None, random_state=None, ...))</pre></div></div></div><div class=\"sk-parallel\"><div class=\"sk-parallel-item\"><div class=\"sk-item\"><div class=\"sk-label-container\"><div class=\"sk-label sk-toggleable\"><input class=\"sk-toggleable__control sk-hidden--visually\" id=\"sk-estimator-id-23\" type=\"checkbox\" ><label for=\"sk-estimator-id-23\" class=\"sk-toggleable__label sk-toggleable__label-arrow\">estimator: XGBClassifier</label><div class=\"sk-toggleable__content\"><pre>XGBClassifier(base_score=None, booster=None, callbacks=None,\n",
       "              colsample_bylevel=None, colsample_bynode=None,\n",
       "              colsample_bytree=None, early_stopping_rounds=None,\n",
       "              enable_categorical=False, eval_metric=None, feature_types=None,\n",
       "              gamma=None, gpu_id=None, grow_policy=None, importance_type=None,\n",
       "              interaction_constraints=None, learning_rate=None, max_bin=None,\n",
       "              max_cat_threshold=None, max_cat_to_onehot=None,\n",
       "              max_delta_step=None, max_depth=100, max_leaves=None,\n",
       "              min_child_weight=None, missing=nan, monotone_constraints=None,\n",
       "              n_estimators=1000, n_jobs=-1, num_parallel_tree=None,\n",
       "              predictor=None, random_state=None, ...)</pre></div></div></div><div class=\"sk-serial\"><div class=\"sk-item\"><div class=\"sk-estimator sk-toggleable\"><input class=\"sk-toggleable__control sk-hidden--visually\" id=\"sk-estimator-id-24\" type=\"checkbox\" ><label for=\"sk-estimator-id-24\" class=\"sk-toggleable__label sk-toggleable__label-arrow\">XGBClassifier</label><div class=\"sk-toggleable__content\"><pre>XGBClassifier(base_score=None, booster=None, callbacks=None,\n",
       "              colsample_bylevel=None, colsample_bynode=None,\n",
       "              colsample_bytree=None, early_stopping_rounds=None,\n",
       "              enable_categorical=False, eval_metric=None, feature_types=None,\n",
       "              gamma=None, gpu_id=None, grow_policy=None, importance_type=None,\n",
       "              interaction_constraints=None, learning_rate=None, max_bin=None,\n",
       "              max_cat_threshold=None, max_cat_to_onehot=None,\n",
       "              max_delta_step=None, max_depth=100, max_leaves=None,\n",
       "              min_child_weight=None, missing=nan, monotone_constraints=None,\n",
       "              n_estimators=1000, n_jobs=-1, num_parallel_tree=None,\n",
       "              predictor=None, random_state=None, ...)</pre></div></div></div></div></div></div></div></div></div></div>"
      ],
      "text/plain": [
       "MultiOutputClassifier(estimator=XGBClassifier(base_score=None, booster=None,\n",
       "                                              callbacks=None,\n",
       "                                              colsample_bylevel=None,\n",
       "                                              colsample_bynode=None,\n",
       "                                              colsample_bytree=None,\n",
       "                                              early_stopping_rounds=None,\n",
       "                                              enable_categorical=False,\n",
       "                                              eval_metric=None,\n",
       "                                              feature_types=None, gamma=None,\n",
       "                                              gpu_id=None, grow_policy=None,\n",
       "                                              importance_type=None,\n",
       "                                              interaction_constraints=None,\n",
       "                                              learning_rate=None, max_bin=None,\n",
       "                                              max_cat_threshold=None,\n",
       "                                              max_cat_to_onehot=None,\n",
       "                                              max_delta_step=None,\n",
       "                                              max_depth=100, max_leaves=None,\n",
       "                                              min_child_weight=None,\n",
       "                                              missing=nan,\n",
       "                                              monotone_constraints=None,\n",
       "                                              n_estimators=1000, n_jobs=-1,\n",
       "                                              num_parallel_tree=None,\n",
       "                                              predictor=None, random_state=None, ...))"
      ]
     },
     "execution_count": 46,
     "metadata": {},
     "output_type": "execute_result"
    }
   ],
   "source": [
    "clf = MultiOutputClassifier(estimator=XGBClassifier(n_jobs=-1, max_depth=100, n_estimators=1000))\n",
    "clf.fit(train_x, train_y)"
   ]
  },
  {
   "cell_type": "code",
   "execution_count": 47,
   "id": "db60623a",
   "metadata": {},
   "outputs": [],
   "source": [
    "y_pred = clf.predict(test_x[0:])\n",
    "y_score = clf.predict_proba(test_x[0:])"
   ]
  },
  {
   "cell_type": "code",
   "execution_count": 48,
   "id": "193cf5df",
   "metadata": {},
   "outputs": [],
   "source": [
    "model_names = [\"gptneox_20B\", \"gptj_6B\", \"fairseq_gpt_13B\", \"text-davinci-002\", \"text-curie-001\",\n",
    "               \"gpt-3.5-turbo\", \"gpt-4\", \"j1-jumbo\", \"j1-grande\", \"j1-large\", \"xlarge\", \"medium\"]"
   ]
  },
  {
   "cell_type": "code",
   "execution_count": 49,
   "id": "34808a96",
   "metadata": {},
   "outputs": [
    {
     "name": "stdout",
     "output_type": "stream",
     "text": [
      "                  precision    recall  f1-score   support\n",
      "\n",
      "     gptneox_20B      0.731     0.839     0.781     22793\n",
      "         gptj_6B      0.726     0.802     0.762     22775\n",
      " fairseq_gpt_13B      0.723     0.808     0.763     23061\n",
      "text-davinci-002      0.810     0.875     0.842     27221\n",
      "  text-curie-001      0.685     0.784     0.731     21968\n",
      "   gpt-3.5-turbo      0.779     0.874     0.823     24096\n",
      "           gpt-4      0.801     0.870     0.834     27561\n",
      "        j1-jumbo      0.761     0.857     0.806     25775\n",
      "       j1-grande      0.741     0.860     0.796     24814\n",
      "        j1-large      0.723     0.845     0.779     23495\n",
      "          xlarge      0.764     0.875     0.816     25910\n",
      "          medium      0.702     0.841     0.766     22351\n",
      "\n",
      "       micro avg      0.747     0.846     0.794    291820\n",
      "       macro avg      0.746     0.844     0.792    291820\n",
      "    weighted avg      0.748     0.846     0.794    291820\n",
      "     samples avg      0.612     0.671     0.609    291820\n",
      "\n",
      "0.25581037796284434\n"
     ]
    },
    {
     "name": "stderr",
     "output_type": "stream",
     "text": [
      "/Users/vanhoangle/opt/anaconda3/envs/torch_mps/lib/python3.8/site-packages/sklearn/metrics/_classification.py:1344: UndefinedMetricWarning: Precision and F-score are ill-defined and being set to 0.0 in samples with no predicted labels. Use `zero_division` parameter to control this behavior.\n",
      "  _warn_prf(average, modifier, msg_start, len(result))\n",
      "/Users/vanhoangle/opt/anaconda3/envs/torch_mps/lib/python3.8/site-packages/sklearn/metrics/_classification.py:1344: UndefinedMetricWarning: Recall and F-score are ill-defined and being set to 0.0 in samples with no true labels. Use `zero_division` parameter to control this behavior.\n",
      "  _warn_prf(average, modifier, msg_start, len(result))\n"
     ]
    }
   ],
   "source": [
    "from sklearn.metrics import classification_report, accuracy_score\n",
    "print(classification_report(test_y, y_pred, digits=3,\n",
    "                            target_names=model_names\n",
    "                            ))\n",
    "print(accuracy_score(test_y, y_pred))"
   ]
  },
  {
   "cell_type": "code",
   "execution_count": 65,
   "id": "70a10637",
   "metadata": {},
   "outputs": [],
   "source": [
    "# for a new query\n",
    "query = \"What is the capital of France?\"\n",
    "query_features = extract_features_word2vec(query)\n",
    "# query_features = X[0]['features'] # to test\n",
    "y_pred = clf.predict([query_features])\n",
    "y_score = clf.predict_proba([query_features])\n",
    "# print(y_pred)\n",
    "# print(y_score)\n",
    "score = {k: v[0][1] for k, v in zip(model_names, y_score)}"
   ]
  },
  {
   "cell_type": "code",
   "execution_count": 66,
   "id": "9b87e8e8",
   "metadata": {},
   "outputs": [
    {
     "data": {
      "text/plain": [
       "{'gptneox_20B': 0.83844745,\n",
       " 'gptj_6B': 0.74707603,\n",
       " 'fairseq_gpt_13B': 0.9795002,\n",
       " 'text-davinci-002': 0.9940054,\n",
       " 'text-curie-001': 0.90561515,\n",
       " 'gpt-3.5-turbo': 0.8935841,\n",
       " 'gpt-4': 0.99221873,\n",
       " 'j1-jumbo': 0.9869047,\n",
       " 'j1-grande': 0.9963413,\n",
       " 'j1-large': 0.8274226,\n",
       " 'xlarge': 0.9966762,\n",
       " 'medium': 0.115519546}"
      ]
     },
     "execution_count": 66,
     "metadata": {},
     "output_type": "execute_result"
    }
   ],
   "source": [
    "score"
   ]
  },
  {
   "cell_type": "code",
   "execution_count": null,
   "id": "c98f0be0",
   "metadata": {},
   "outputs": [],
   "source": []
  }
 ],
 "metadata": {
  "kernelspec": {
   "display_name": "Python 3",
   "language": "python",
   "name": "python3"
  },
  "language_info": {
   "codemirror_mode": {
    "name": "ipython",
    "version": 3
   },
   "file_extension": ".py",
   "mimetype": "text/x-python",
   "name": "python",
   "nbconvert_exporter": "python",
   "pygments_lexer": "ipython3",
   "version": "3.8.13"
  }
 },
 "nbformat": 4,
 "nbformat_minor": 5
}
