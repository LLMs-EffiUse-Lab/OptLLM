{
 "cells": [
  {
   "cell_type": "code",
   "execution_count": 1,
   "id": "initial_id",
   "metadata": {
    "collapsed": true,
    "ExecuteTime": {
     "end_time": "2024-02-04T23:41:21.550543900Z",
     "start_time": "2024-02-04T23:41:20.420032800Z"
    }
   },
   "outputs": [],
   "source": [
    "import pandas as pd\n",
    "import matplotlib.pyplot as plt"
   ]
  },
  {
   "cell_type": "code",
   "outputs": [],
   "source": [
    "def get_single_model_results_(model, df_true_accuracy, df_cost):\n",
    "    model_column = f'{model}'\n",
    "    f_accuracy = df_true_accuracy[model_column].sum() / len(df_true_accuracy)\n",
    "    f_cost = df_cost[model_column].sum()\n",
    "    return [f_cost, f_accuracy]"
   ],
   "metadata": {
    "collapsed": false
   },
   "id": "8e1a0eb172682163"
  },
  {
   "cell_type": "code",
   "outputs": [],
   "source": [
    "from prediction.prediction_model import data_preprocess\n",
    "\n",
    "datasets = ['overruling', 'agnews', 'coqa', 'headlines', 'sciq'] #'overruling', 'agnews', 'coqa', 'headlines', 'sciq']\n",
    "model_list = ['gptneox_20B', 'gptj_6B', 'fairseq_gpt_13B', 'text-davinci-002', 'text-curie-001', 'gpt-3.5-turbo',\n",
    "                          'gpt-4', 'j1-jumbo', 'j1-grande', 'j1-large', 'xlarge', 'medium']\n",
    "data_dir = f\"datasets/text_classification\"\n",
    "test_data_size = 0.95\n",
    "for dataset in datasets:\n",
    "    pred_opt = pd.read_csv(f\"output/text_classification/{dataset}_{test_data_size}\")\n",
    "    pred_ = pd.read_csv(f\"output/text_classification/prediction/{dataset}_{test_data_size}\")\n",
    "    \n",
    "    df_pre_accuracy, df_true_accuracy, df_cost = data_preprocess(data_dir, dataset, model_list, test_size=test_data_size)\n",
    "    single_model_res = {}\n",
    "    for i in range(len(model_list)):\n",
    "        single_model_res[model_list[i]] = get_single_model_results_(model_list[i], df_true_accuracy, df_cost)\n",
    "        \n",
    "     fig = plt.figure(figsize=(12, 7))\n",
    "        font = {  # 'family': 'serif',\n",
    "            'color': 'black',\n",
    "            'weight': 'normal',\n",
    "            'size': 15,\n",
    "        }\n",
    "        for key, value in single_model_res.items():\n",
    "            plt.scatter(value[0], value[1], alpha=1, label=key)\n",
    "\n",
    "        plt.scatter(pred_opt['cost'], pred_opt[\"true_accuracy\"], alpha=1, c=\"firebrick\", label='pred_opt')\n",
    "        plt.scatter(pred_['cost'], pred_[\"true_accuracy\"], alpha=1, c=\"blue\", label='pred')\n",
    "        # plt.scatter(igs_res['cost'], igs_res[\"true_accuracy\"], alpha=1, marker=\"^\", c=\"blue\",\n",
    "        #             label='IGAP')\n",
    "        plt.xlabel('Cost (USD)', fontdict=font)\n",
    "        plt.ylabel('Accuracy', fontdict=font)\n",
    "        plt.xticks(fontsize=14)\n",
    "        plt.yticks(fontsize=14)\n",
    "        plt.grid(zorder=0, linestyle='--', axis='y')\n",
    "        plt.legend()\n",
    "        lgd = plt.legend(loc='upper center', bbox_to_anchor=(0.47, -0.13), ncol=7, fontsize=12)\n",
    "        plt.tight_layout()\n",
    "        plt.show()\n",
    "        fig.savefig(f\"{save_dir}/Comparison_{dataset}.png\", dpi=500,\n",
    "                    bbox_extra_artists=(lgd,), bbox_inches='tight')"
   ],
   "metadata": {
    "collapsed": false
   },
   "id": "ded889b0311a9fa0"
  }
 ],
 "metadata": {
  "kernelspec": {
   "display_name": "Python 3",
   "language": "python",
   "name": "python3"
  },
  "language_info": {
   "codemirror_mode": {
    "name": "ipython",
    "version": 2
   },
   "file_extension": ".py",
   "mimetype": "text/x-python",
   "name": "python",
   "nbconvert_exporter": "python",
   "pygments_lexer": "ipython2",
   "version": "2.7.6"
  }
 },
 "nbformat": 4,
 "nbformat_minor": 5
}
